{
 "cells": [
  {
   "cell_type": "code",
   "execution_count": 1,
   "id": "3ee3725f-92f6-4d90-b175-04b184a35117",
   "metadata": {},
   "outputs": [],
   "source": [
    "import nmy a n"
   ]
  },
  {
   "cell_type": "code",
   "execution_count": 1,
   "id": "fc9a17bf-d59d-4dec-8acf-ed6bae1e3f0b",
   "metadata": {},
   "outputs": [],
   "source": [
    "import pandas as pd"
   ]
  },
  {
   "cell_type": "code",
   "execution_count": null,
   "id": "a0653280-271d-45a8-a57f-7e76ae1e9ad9",
   "metadata": {},
   "outputs": [],
   "source": [
    "import scipy"
   ]
  },
  {
   "cell_type": "code",
   "execution_count": null,
   "id": "c8aa5b96-cdd3-451a-a1ef-88a70665a79f",
   "metadata": {},
   "outputs": [],
   "source": [
    "import cc"
   ]
  },
  {
   "cell_type": "code",
   "execution_count": null,
   "id": "e51d1a95-3ea5-41a1-b62e-edf94ef9d97c",
   "metadata": {},
   "outputs": [],
   "source": [
    "import dd"
   ]
  },
  {
   "cell_type": "code",
   "execution_count": null,
   "id": "ed76f35a-c8dd-4cae-8ff9-521925cd0b34",
   "metadata": {},
   "outputs": [],
   "source": [
    "import ee ggggggfffff"
   ]
  }
 ],
 "metadata": {
  "kernelspec": {
   "display_name": "Python 3 (ipykernel)",
   "language": "python",
   "name": "python3"
  },
  "language_info": {
   "codemirror_mode": {
    "name": "ipython",
    "version": 3
   },
   "file_extension": ".py",
   "mimetype": "text/x-python",
   "name": "python",
   "nbconvert_exporter": "python",
   "pygments_lexer": "ipython3",
   "version": "3.10.8"
  }
 },
 "nbformat": 4,
 "nbformat_minor": 5
}
